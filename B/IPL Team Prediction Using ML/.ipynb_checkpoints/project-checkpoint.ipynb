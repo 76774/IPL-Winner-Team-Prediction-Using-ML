{
 "cells": [
  {
   "cell_type": "code",
   "execution_count": 1,
   "metadata": {},
   "outputs": [],
   "source": [
    "import pandas as pd\n",
    "import numpy as np\n",
    "from sklearn.preprocessing import LabelEncoder\n",
    "\n",
    "data = pd.read_csv(r\"C:\\Users\\Suvansh Vaid\\Desktop\\DataQuest\\Workshop\\Final Project\\matches.csv\")"
   ]
  },
  {
   "cell_type": "code",
   "execution_count": 2,
   "metadata": {},
   "outputs": [
    {
     "name": "stdout",
     "output_type": "stream",
     "text": [
      "<class 'pandas.core.frame.DataFrame'>\n",
      "RangeIndex: 756 entries, 0 to 755\n",
      "Data columns (total 18 columns):\n",
      "id                 756 non-null int64\n",
      "season             756 non-null int64\n",
      "city               749 non-null object\n",
      "date               756 non-null object\n",
      "team1              756 non-null object\n",
      "team2              756 non-null object\n",
      "toss_winner        756 non-null object\n",
      "toss_decision      756 non-null object\n",
      "result             756 non-null object\n",
      "dl_applied         756 non-null int64\n",
      "winner             752 non-null object\n",
      "win_by_runs        756 non-null int64\n",
      "win_by_wickets     756 non-null int64\n",
      "player_of_match    752 non-null object\n",
      "venue              756 non-null object\n",
      "umpire1            754 non-null object\n",
      "umpire2            754 non-null object\n",
      "umpire3            119 non-null object\n",
      "dtypes: int64(5), object(13)\n",
      "memory usage: 106.4+ KB\n"
     ]
    },
    {
     "data": {
      "text/html": [
       "<div>\n",
       "<style scoped>\n",
       "    .dataframe tbody tr th:only-of-type {\n",
       "        vertical-align: middle;\n",
       "    }\n",
       "\n",
       "    .dataframe tbody tr th {\n",
       "        vertical-align: top;\n",
       "    }\n",
       "\n",
       "    .dataframe thead th {\n",
       "        text-align: right;\n",
       "    }\n",
       "</style>\n",
       "<table border=\"1\" class=\"dataframe\">\n",
       "  <thead>\n",
       "    <tr style=\"text-align: right;\">\n",
       "      <th></th>\n",
       "      <th>id</th>\n",
       "      <th>season</th>\n",
       "      <th>city</th>\n",
       "      <th>date</th>\n",
       "      <th>team1</th>\n",
       "      <th>team2</th>\n",
       "      <th>toss_winner</th>\n",
       "      <th>toss_decision</th>\n",
       "      <th>result</th>\n",
       "      <th>dl_applied</th>\n",
       "      <th>winner</th>\n",
       "      <th>win_by_runs</th>\n",
       "      <th>win_by_wickets</th>\n",
       "      <th>player_of_match</th>\n",
       "      <th>venue</th>\n",
       "      <th>umpire1</th>\n",
       "      <th>umpire2</th>\n",
       "      <th>umpire3</th>\n",
       "    </tr>\n",
       "  </thead>\n",
       "  <tbody>\n",
       "    <tr>\n",
       "      <th>0</th>\n",
       "      <td>1</td>\n",
       "      <td>2008</td>\n",
       "      <td>Bangalore</td>\n",
       "      <td>18-04-2008</td>\n",
       "      <td>Kolkata Knight Riders</td>\n",
       "      <td>Royal Challengers Bangalore</td>\n",
       "      <td>Royal Challengers Bangalore</td>\n",
       "      <td>field</td>\n",
       "      <td>normal</td>\n",
       "      <td>0</td>\n",
       "      <td>Kolkata Knight Riders</td>\n",
       "      <td>140</td>\n",
       "      <td>0</td>\n",
       "      <td>BB McCullum</td>\n",
       "      <td>M Chinnaswamy Stadium</td>\n",
       "      <td>Asad Rauf</td>\n",
       "      <td>RE Koertzen</td>\n",
       "      <td>NaN</td>\n",
       "    </tr>\n",
       "    <tr>\n",
       "      <th>1</th>\n",
       "      <td>2</td>\n",
       "      <td>2008</td>\n",
       "      <td>Chandigarh</td>\n",
       "      <td>19-04-2008</td>\n",
       "      <td>Chennai Super Kings</td>\n",
       "      <td>Kings XI Punjab</td>\n",
       "      <td>Chennai Super Kings</td>\n",
       "      <td>bat</td>\n",
       "      <td>normal</td>\n",
       "      <td>0</td>\n",
       "      <td>Chennai Super Kings</td>\n",
       "      <td>33</td>\n",
       "      <td>0</td>\n",
       "      <td>MEK Hussey</td>\n",
       "      <td>Punjab Cricket Association Stadium, Mohali</td>\n",
       "      <td>MR Benson</td>\n",
       "      <td>SL Shastri</td>\n",
       "      <td>NaN</td>\n",
       "    </tr>\n",
       "    <tr>\n",
       "      <th>2</th>\n",
       "      <td>3</td>\n",
       "      <td>2008</td>\n",
       "      <td>Delhi</td>\n",
       "      <td>19-04-2008</td>\n",
       "      <td>Rajasthan Royals</td>\n",
       "      <td>Delhi Daredevils</td>\n",
       "      <td>Rajasthan Royals</td>\n",
       "      <td>bat</td>\n",
       "      <td>normal</td>\n",
       "      <td>0</td>\n",
       "      <td>Delhi Daredevils</td>\n",
       "      <td>0</td>\n",
       "      <td>9</td>\n",
       "      <td>MF Maharoof</td>\n",
       "      <td>Feroz Shah Kotla</td>\n",
       "      <td>Aleem Dar</td>\n",
       "      <td>GA Pratapkumar</td>\n",
       "      <td>NaN</td>\n",
       "    </tr>\n",
       "    <tr>\n",
       "      <th>3</th>\n",
       "      <td>4</td>\n",
       "      <td>2008</td>\n",
       "      <td>Mumbai</td>\n",
       "      <td>20-04-2008</td>\n",
       "      <td>Mumbai Indians</td>\n",
       "      <td>Royal Challengers Bangalore</td>\n",
       "      <td>Mumbai Indians</td>\n",
       "      <td>bat</td>\n",
       "      <td>normal</td>\n",
       "      <td>0</td>\n",
       "      <td>Royal Challengers Bangalore</td>\n",
       "      <td>0</td>\n",
       "      <td>5</td>\n",
       "      <td>MV Boucher</td>\n",
       "      <td>Wankhede Stadium</td>\n",
       "      <td>SJ Davis</td>\n",
       "      <td>DJ Harper</td>\n",
       "      <td>NaN</td>\n",
       "    </tr>\n",
       "    <tr>\n",
       "      <th>4</th>\n",
       "      <td>5</td>\n",
       "      <td>2008</td>\n",
       "      <td>Kolkata</td>\n",
       "      <td>20-04-2008</td>\n",
       "      <td>Deccan Chargers</td>\n",
       "      <td>Kolkata Knight Riders</td>\n",
       "      <td>Deccan Chargers</td>\n",
       "      <td>bat</td>\n",
       "      <td>normal</td>\n",
       "      <td>0</td>\n",
       "      <td>Kolkata Knight Riders</td>\n",
       "      <td>0</td>\n",
       "      <td>5</td>\n",
       "      <td>DJ Hussey</td>\n",
       "      <td>Eden Gardens</td>\n",
       "      <td>BF Bowden</td>\n",
       "      <td>K Hariharan</td>\n",
       "      <td>NaN</td>\n",
       "    </tr>\n",
       "  </tbody>\n",
       "</table>\n",
       "</div>"
      ],
      "text/plain": [
       "   id  season        city        date                  team1  \\\n",
       "0   1    2008   Bangalore  18-04-2008  Kolkata Knight Riders   \n",
       "1   2    2008  Chandigarh  19-04-2008    Chennai Super Kings   \n",
       "2   3    2008       Delhi  19-04-2008       Rajasthan Royals   \n",
       "3   4    2008      Mumbai  20-04-2008         Mumbai Indians   \n",
       "4   5    2008     Kolkata  20-04-2008        Deccan Chargers   \n",
       "\n",
       "                         team2                  toss_winner toss_decision  \\\n",
       "0  Royal Challengers Bangalore  Royal Challengers Bangalore         field   \n",
       "1              Kings XI Punjab          Chennai Super Kings           bat   \n",
       "2             Delhi Daredevils             Rajasthan Royals           bat   \n",
       "3  Royal Challengers Bangalore               Mumbai Indians           bat   \n",
       "4        Kolkata Knight Riders              Deccan Chargers           bat   \n",
       "\n",
       "   result  dl_applied                       winner  win_by_runs  \\\n",
       "0  normal           0        Kolkata Knight Riders          140   \n",
       "1  normal           0          Chennai Super Kings           33   \n",
       "2  normal           0             Delhi Daredevils            0   \n",
       "3  normal           0  Royal Challengers Bangalore            0   \n",
       "4  normal           0        Kolkata Knight Riders            0   \n",
       "\n",
       "   win_by_wickets player_of_match                                       venue  \\\n",
       "0               0     BB McCullum                       M Chinnaswamy Stadium   \n",
       "1               0      MEK Hussey  Punjab Cricket Association Stadium, Mohali   \n",
       "2               9     MF Maharoof                            Feroz Shah Kotla   \n",
       "3               5      MV Boucher                            Wankhede Stadium   \n",
       "4               5       DJ Hussey                                Eden Gardens   \n",
       "\n",
       "     umpire1         umpire2 umpire3  \n",
       "0  Asad Rauf     RE Koertzen     NaN  \n",
       "1  MR Benson      SL Shastri     NaN  \n",
       "2  Aleem Dar  GA Pratapkumar     NaN  \n",
       "3   SJ Davis       DJ Harper     NaN  \n",
       "4  BF Bowden     K Hariharan     NaN  "
      ]
     },
     "execution_count": 2,
     "metadata": {},
     "output_type": "execute_result"
    }
   ],
   "source": [
    "data.info()\n",
    "data.head()"
   ]
  },
  {
   "cell_type": "code",
   "execution_count": 3,
   "metadata": {},
   "outputs": [],
   "source": [
    "data['winner'].fillna('Draw', inplace = True)"
   ]
  },
  {
   "cell_type": "code",
   "execution_count": 4,
   "metadata": {},
   "outputs": [
    {
     "data": {
      "text/html": [
       "<div>\n",
       "<style scoped>\n",
       "    .dataframe tbody tr th:only-of-type {\n",
       "        vertical-align: middle;\n",
       "    }\n",
       "\n",
       "    .dataframe tbody tr th {\n",
       "        vertical-align: top;\n",
       "    }\n",
       "\n",
       "    .dataframe thead th {\n",
       "        text-align: right;\n",
       "    }\n",
       "</style>\n",
       "<table border=\"1\" class=\"dataframe\">\n",
       "  <thead>\n",
       "    <tr style=\"text-align: right;\">\n",
       "      <th></th>\n",
       "      <th>id</th>\n",
       "      <th>season</th>\n",
       "      <th>city</th>\n",
       "      <th>date</th>\n",
       "      <th>team1</th>\n",
       "      <th>team2</th>\n",
       "      <th>toss_winner</th>\n",
       "      <th>toss_decision</th>\n",
       "      <th>result</th>\n",
       "      <th>dl_applied</th>\n",
       "      <th>winner</th>\n",
       "      <th>win_by_runs</th>\n",
       "      <th>win_by_wickets</th>\n",
       "      <th>player_of_match</th>\n",
       "      <th>venue</th>\n",
       "      <th>umpire1</th>\n",
       "      <th>umpire2</th>\n",
       "      <th>umpire3</th>\n",
       "    </tr>\n",
       "  </thead>\n",
       "  <tbody>\n",
       "  </tbody>\n",
       "</table>\n",
       "</div>"
      ],
      "text/plain": [
       "Empty DataFrame\n",
       "Columns: [id, season, city, date, team1, team2, toss_winner, toss_decision, result, dl_applied, winner, win_by_runs, win_by_wickets, player_of_match, venue, umpire1, umpire2, umpire3]\n",
       "Index: []"
      ]
     },
     "execution_count": 4,
     "metadata": {},
     "output_type": "execute_result"
    }
   ],
   "source": [
    "data[pd.isnull(data['winner'])]"
   ]
  },
  {
   "cell_type": "code",
   "execution_count": 5,
   "metadata": {},
   "outputs": [],
   "source": [
    "data1 = data.drop([\"id\", \"season\", \"date\", \"result\",\"dl_applied\", \"win_by_runs\", \"win_by_wickets\" ,\"player_of_match\", \"umpire1\", \"umpire2\", \"umpire3\"], axis = 1)"
   ]
  },
  {
   "cell_type": "code",
   "execution_count": 6,
   "metadata": {},
   "outputs": [
    {
     "data": {
      "text/html": [
       "<div>\n",
       "<style scoped>\n",
       "    .dataframe tbody tr th:only-of-type {\n",
       "        vertical-align: middle;\n",
       "    }\n",
       "\n",
       "    .dataframe tbody tr th {\n",
       "        vertical-align: top;\n",
       "    }\n",
       "\n",
       "    .dataframe thead th {\n",
       "        text-align: right;\n",
       "    }\n",
       "</style>\n",
       "<table border=\"1\" class=\"dataframe\">\n",
       "  <thead>\n",
       "    <tr style=\"text-align: right;\">\n",
       "      <th></th>\n",
       "      <th>city</th>\n",
       "      <th>team1</th>\n",
       "      <th>team2</th>\n",
       "      <th>toss_winner</th>\n",
       "      <th>toss_decision</th>\n",
       "      <th>winner</th>\n",
       "      <th>venue</th>\n",
       "    </tr>\n",
       "  </thead>\n",
       "  <tbody>\n",
       "    <tr>\n",
       "      <th>0</th>\n",
       "      <td>Bangalore</td>\n",
       "      <td>Kolkata Knight Riders</td>\n",
       "      <td>Royal Challengers Bangalore</td>\n",
       "      <td>Royal Challengers Bangalore</td>\n",
       "      <td>field</td>\n",
       "      <td>Kolkata Knight Riders</td>\n",
       "      <td>M Chinnaswamy Stadium</td>\n",
       "    </tr>\n",
       "    <tr>\n",
       "      <th>1</th>\n",
       "      <td>Chandigarh</td>\n",
       "      <td>Chennai Super Kings</td>\n",
       "      <td>Kings XI Punjab</td>\n",
       "      <td>Chennai Super Kings</td>\n",
       "      <td>bat</td>\n",
       "      <td>Chennai Super Kings</td>\n",
       "      <td>Punjab Cricket Association Stadium, Mohali</td>\n",
       "    </tr>\n",
       "    <tr>\n",
       "      <th>2</th>\n",
       "      <td>Delhi</td>\n",
       "      <td>Rajasthan Royals</td>\n",
       "      <td>Delhi Daredevils</td>\n",
       "      <td>Rajasthan Royals</td>\n",
       "      <td>bat</td>\n",
       "      <td>Delhi Daredevils</td>\n",
       "      <td>Feroz Shah Kotla</td>\n",
       "    </tr>\n",
       "    <tr>\n",
       "      <th>3</th>\n",
       "      <td>Mumbai</td>\n",
       "      <td>Mumbai Indians</td>\n",
       "      <td>Royal Challengers Bangalore</td>\n",
       "      <td>Mumbai Indians</td>\n",
       "      <td>bat</td>\n",
       "      <td>Royal Challengers Bangalore</td>\n",
       "      <td>Wankhede Stadium</td>\n",
       "    </tr>\n",
       "    <tr>\n",
       "      <th>4</th>\n",
       "      <td>Kolkata</td>\n",
       "      <td>Deccan Chargers</td>\n",
       "      <td>Kolkata Knight Riders</td>\n",
       "      <td>Deccan Chargers</td>\n",
       "      <td>bat</td>\n",
       "      <td>Kolkata Knight Riders</td>\n",
       "      <td>Eden Gardens</td>\n",
       "    </tr>\n",
       "  </tbody>\n",
       "</table>\n",
       "</div>"
      ],
      "text/plain": [
       "         city                  team1                        team2  \\\n",
       "0   Bangalore  Kolkata Knight Riders  Royal Challengers Bangalore   \n",
       "1  Chandigarh    Chennai Super Kings              Kings XI Punjab   \n",
       "2       Delhi       Rajasthan Royals             Delhi Daredevils   \n",
       "3      Mumbai         Mumbai Indians  Royal Challengers Bangalore   \n",
       "4     Kolkata        Deccan Chargers        Kolkata Knight Riders   \n",
       "\n",
       "                   toss_winner toss_decision                       winner  \\\n",
       "0  Royal Challengers Bangalore         field        Kolkata Knight Riders   \n",
       "1          Chennai Super Kings           bat          Chennai Super Kings   \n",
       "2             Rajasthan Royals           bat             Delhi Daredevils   \n",
       "3               Mumbai Indians           bat  Royal Challengers Bangalore   \n",
       "4              Deccan Chargers           bat        Kolkata Knight Riders   \n",
       "\n",
       "                                        venue  \n",
       "0                       M Chinnaswamy Stadium  \n",
       "1  Punjab Cricket Association Stadium, Mohali  \n",
       "2                            Feroz Shah Kotla  \n",
       "3                            Wankhede Stadium  \n",
       "4                                Eden Gardens  "
      ]
     },
     "execution_count": 6,
     "metadata": {},
     "output_type": "execute_result"
    }
   ],
   "source": [
    "data1.head()"
   ]
  },
  {
   "cell_type": "code",
   "execution_count": 7,
   "metadata": {},
   "outputs": [],
   "source": [
    "data1.replace(['Kings XI Punjab', 'Royal Challengers Bangalore','Sunrisers Hyderabad', 'Mumbai Indians', 'Delhi Daredevils', 'Chennai Super Kings','Kolkata Knight Riders', 'Rajasthan Royals', 'Delhi Capitals'], ['KXIP', 'RCB', 'SRH', 'MI', 'DC', 'CSK', 'KKR', 'RR', 'DC'], inplace = True)"
   ]
  },
  {
   "cell_type": "code",
   "execution_count": 8,
   "metadata": {},
   "outputs": [],
   "source": [
    "data1.drop(data1[data1['team1'] == 'Gujarat Lions'].index, inplace = True)\n",
    "data1.drop(data1[data1['team2'] == 'Gujarat Lions'].index, inplace = True)\n",
    "data1.drop(data1[data1['team1'] == 'Rising Pune Supergiants'].index, inplace = True)\n",
    "data1.drop(data1[data1['team2'] == 'Rising Pune Supergiants'].index, inplace = True)\n",
    "data1.drop(data1[data1['team1'] == 'Rising Pune Supergiant'].index, inplace = True)\n",
    "data1.drop(data1[data1['team2'] == 'Rising Pune Supergiant'].index, inplace = True)\n",
    "data1.drop(data1[data1['team1'] == 'Deccan Chargers'].index, inplace = True)\n",
    "data1.drop(data1[data1['team2'] == 'Deccan Chargers'].index, inplace = True)\n",
    "data1.drop(data1[data1['team1'] == 'Kochi Tuskers Kerala'].index, inplace = True)\n",
    "data1.drop(data1[data1['team2'] == 'Kochi Tuskers Kerala'].index, inplace = True)\n",
    "data1.drop(data1[data1['team1'] == 'Pune Warriors'].index, inplace = True)\n",
    "data1.drop(data1[data1['team2'] == 'Pune Warriors'].index, inplace = True)\n"
   ]
  },
  {
   "cell_type": "code",
   "execution_count": 9,
   "metadata": {},
   "outputs": [
    {
     "data": {
      "text/html": [
       "<div>\n",
       "<style scoped>\n",
       "    .dataframe tbody tr th:only-of-type {\n",
       "        vertical-align: middle;\n",
       "    }\n",
       "\n",
       "    .dataframe tbody tr th {\n",
       "        vertical-align: top;\n",
       "    }\n",
       "\n",
       "    .dataframe thead th {\n",
       "        text-align: right;\n",
       "    }\n",
       "</style>\n",
       "<table border=\"1\" class=\"dataframe\">\n",
       "  <thead>\n",
       "    <tr style=\"text-align: right;\">\n",
       "      <th></th>\n",
       "      <th>city</th>\n",
       "      <th>team1</th>\n",
       "      <th>team2</th>\n",
       "      <th>toss_winner</th>\n",
       "      <th>toss_decision</th>\n",
       "      <th>winner</th>\n",
       "      <th>venue</th>\n",
       "    </tr>\n",
       "  </thead>\n",
       "  <tbody>\n",
       "    <tr>\n",
       "      <th>0</th>\n",
       "      <td>Bangalore</td>\n",
       "      <td>KKR</td>\n",
       "      <td>RCB</td>\n",
       "      <td>RCB</td>\n",
       "      <td>field</td>\n",
       "      <td>KKR</td>\n",
       "      <td>M Chinnaswamy Stadium</td>\n",
       "    </tr>\n",
       "    <tr>\n",
       "      <th>1</th>\n",
       "      <td>Chandigarh</td>\n",
       "      <td>CSK</td>\n",
       "      <td>KXIP</td>\n",
       "      <td>CSK</td>\n",
       "      <td>bat</td>\n",
       "      <td>CSK</td>\n",
       "      <td>Punjab Cricket Association Stadium, Mohali</td>\n",
       "    </tr>\n",
       "    <tr>\n",
       "      <th>2</th>\n",
       "      <td>Delhi</td>\n",
       "      <td>RR</td>\n",
       "      <td>DC</td>\n",
       "      <td>RR</td>\n",
       "      <td>bat</td>\n",
       "      <td>DC</td>\n",
       "      <td>Feroz Shah Kotla</td>\n",
       "    </tr>\n",
       "    <tr>\n",
       "      <th>3</th>\n",
       "      <td>Mumbai</td>\n",
       "      <td>MI</td>\n",
       "      <td>RCB</td>\n",
       "      <td>MI</td>\n",
       "      <td>bat</td>\n",
       "      <td>RCB</td>\n",
       "      <td>Wankhede Stadium</td>\n",
       "    </tr>\n",
       "    <tr>\n",
       "      <th>5</th>\n",
       "      <td>Jaipur</td>\n",
       "      <td>KXIP</td>\n",
       "      <td>RR</td>\n",
       "      <td>KXIP</td>\n",
       "      <td>bat</td>\n",
       "      <td>RR</td>\n",
       "      <td>Sawai Mansingh Stadium</td>\n",
       "    </tr>\n",
       "  </tbody>\n",
       "</table>\n",
       "</div>"
      ],
      "text/plain": [
       "         city team1 team2 toss_winner toss_decision winner  \\\n",
       "0   Bangalore   KKR   RCB         RCB         field    KKR   \n",
       "1  Chandigarh   CSK  KXIP         CSK           bat    CSK   \n",
       "2       Delhi    RR    DC          RR           bat     DC   \n",
       "3      Mumbai    MI   RCB          MI           bat    RCB   \n",
       "5      Jaipur  KXIP    RR        KXIP           bat     RR   \n",
       "\n",
       "                                        venue  \n",
       "0                       M Chinnaswamy Stadium  \n",
       "1  Punjab Cricket Association Stadium, Mohali  \n",
       "2                            Feroz Shah Kotla  \n",
       "3                            Wankhede Stadium  \n",
       "5                      Sawai Mansingh Stadium  "
      ]
     },
     "execution_count": 9,
     "metadata": {},
     "output_type": "execute_result"
    }
   ],
   "source": [
    "data1.head()"
   ]
  },
  {
   "cell_type": "code",
   "execution_count": 10,
   "metadata": {},
   "outputs": [
    {
     "name": "stdout",
     "output_type": "stream",
     "text": [
      "<class 'pandas.core.frame.DataFrame'>\n",
      "Int64Index: 571 entries, 0 to 755\n",
      "Data columns (total 7 columns):\n",
      "city             564 non-null object\n",
      "team1            571 non-null object\n",
      "team2            571 non-null object\n",
      "toss_winner      571 non-null object\n",
      "toss_decision    571 non-null object\n",
      "winner           571 non-null object\n",
      "venue            571 non-null object\n",
      "dtypes: object(7)\n",
      "memory usage: 35.7+ KB\n"
     ]
    }
   ],
   "source": [
    "data1.info()"
   ]
  },
  {
   "cell_type": "code",
   "execution_count": 11,
   "metadata": {},
   "outputs": [
    {
     "data": {
      "text/html": [
       "<div>\n",
       "<style scoped>\n",
       "    .dataframe tbody tr th:only-of-type {\n",
       "        vertical-align: middle;\n",
       "    }\n",
       "\n",
       "    .dataframe tbody tr th {\n",
       "        vertical-align: top;\n",
       "    }\n",
       "\n",
       "    .dataframe thead th {\n",
       "        text-align: right;\n",
       "    }\n",
       "</style>\n",
       "<table border=\"1\" class=\"dataframe\">\n",
       "  <thead>\n",
       "    <tr style=\"text-align: right;\">\n",
       "      <th></th>\n",
       "      <th>city</th>\n",
       "      <th>team1</th>\n",
       "      <th>team2</th>\n",
       "      <th>toss_winner</th>\n",
       "      <th>toss_decision</th>\n",
       "      <th>winner</th>\n",
       "      <th>venue</th>\n",
       "    </tr>\n",
       "  </thead>\n",
       "  <tbody>\n",
       "    <tr>\n",
       "      <th>402</th>\n",
       "      <td>NaN</td>\n",
       "      <td>MI</td>\n",
       "      <td>RCB</td>\n",
       "      <td>RCB</td>\n",
       "      <td>field</td>\n",
       "      <td>RCB</td>\n",
       "      <td>Dubai International Cricket Stadium</td>\n",
       "    </tr>\n",
       "    <tr>\n",
       "      <th>403</th>\n",
       "      <td>NaN</td>\n",
       "      <td>KKR</td>\n",
       "      <td>DC</td>\n",
       "      <td>KKR</td>\n",
       "      <td>bat</td>\n",
       "      <td>DC</td>\n",
       "      <td>Dubai International Cricket Stadium</td>\n",
       "    </tr>\n",
       "    <tr>\n",
       "      <th>407</th>\n",
       "      <td>NaN</td>\n",
       "      <td>CSK</td>\n",
       "      <td>RR</td>\n",
       "      <td>RR</td>\n",
       "      <td>field</td>\n",
       "      <td>CSK</td>\n",
       "      <td>Dubai International Cricket Stadium</td>\n",
       "    </tr>\n",
       "    <tr>\n",
       "      <th>409</th>\n",
       "      <td>NaN</td>\n",
       "      <td>SRH</td>\n",
       "      <td>DC</td>\n",
       "      <td>SRH</td>\n",
       "      <td>bat</td>\n",
       "      <td>SRH</td>\n",
       "      <td>Dubai International Cricket Stadium</td>\n",
       "    </tr>\n",
       "    <tr>\n",
       "      <th>410</th>\n",
       "      <td>NaN</td>\n",
       "      <td>MI</td>\n",
       "      <td>CSK</td>\n",
       "      <td>MI</td>\n",
       "      <td>bat</td>\n",
       "      <td>CSK</td>\n",
       "      <td>Dubai International Cricket Stadium</td>\n",
       "    </tr>\n",
       "    <tr>\n",
       "      <th>415</th>\n",
       "      <td>NaN</td>\n",
       "      <td>RCB</td>\n",
       "      <td>KXIP</td>\n",
       "      <td>KXIP</td>\n",
       "      <td>field</td>\n",
       "      <td>KXIP</td>\n",
       "      <td>Dubai International Cricket Stadium</td>\n",
       "    </tr>\n",
       "    <tr>\n",
       "      <th>417</th>\n",
       "      <td>NaN</td>\n",
       "      <td>SRH</td>\n",
       "      <td>MI</td>\n",
       "      <td>MI</td>\n",
       "      <td>field</td>\n",
       "      <td>SRH</td>\n",
       "      <td>Dubai International Cricket Stadium</td>\n",
       "    </tr>\n",
       "  </tbody>\n",
       "</table>\n",
       "</div>"
      ],
      "text/plain": [
       "    city team1 team2 toss_winner toss_decision winner  \\\n",
       "402  NaN    MI   RCB         RCB         field    RCB   \n",
       "403  NaN   KKR    DC         KKR           bat     DC   \n",
       "407  NaN   CSK    RR          RR         field    CSK   \n",
       "409  NaN   SRH    DC         SRH           bat    SRH   \n",
       "410  NaN    MI   CSK          MI           bat    CSK   \n",
       "415  NaN   RCB  KXIP        KXIP         field   KXIP   \n",
       "417  NaN   SRH    MI          MI         field    SRH   \n",
       "\n",
       "                                   venue  \n",
       "402  Dubai International Cricket Stadium  \n",
       "403  Dubai International Cricket Stadium  \n",
       "407  Dubai International Cricket Stadium  \n",
       "409  Dubai International Cricket Stadium  \n",
       "410  Dubai International Cricket Stadium  \n",
       "415  Dubai International Cricket Stadium  \n",
       "417  Dubai International Cricket Stadium  "
      ]
     },
     "execution_count": 11,
     "metadata": {},
     "output_type": "execute_result"
    }
   ],
   "source": [
    "data1[pd.isnull(data1['city'])]"
   ]
  },
  {
   "cell_type": "code",
   "execution_count": 12,
   "metadata": {},
   "outputs": [],
   "source": [
    "data1 = data1.dropna(how = 'any')"
   ]
  },
  {
   "cell_type": "code",
   "execution_count": 13,
   "metadata": {},
   "outputs": [
    {
     "data": {
      "text/html": [
       "<div>\n",
       "<style scoped>\n",
       "    .dataframe tbody tr th:only-of-type {\n",
       "        vertical-align: middle;\n",
       "    }\n",
       "\n",
       "    .dataframe tbody tr th {\n",
       "        vertical-align: top;\n",
       "    }\n",
       "\n",
       "    .dataframe thead th {\n",
       "        text-align: right;\n",
       "    }\n",
       "</style>\n",
       "<table border=\"1\" class=\"dataframe\">\n",
       "  <thead>\n",
       "    <tr style=\"text-align: right;\">\n",
       "      <th></th>\n",
       "      <th>city</th>\n",
       "      <th>team1</th>\n",
       "      <th>team2</th>\n",
       "      <th>toss_winner</th>\n",
       "      <th>toss_decision</th>\n",
       "      <th>winner</th>\n",
       "      <th>venue</th>\n",
       "    </tr>\n",
       "  </thead>\n",
       "  <tbody>\n",
       "    <tr>\n",
       "      <th>0</th>\n",
       "      <td>Bangalore</td>\n",
       "      <td>KKR</td>\n",
       "      <td>RCB</td>\n",
       "      <td>RCB</td>\n",
       "      <td>field</td>\n",
       "      <td>KKR</td>\n",
       "      <td>M Chinnaswamy Stadium</td>\n",
       "    </tr>\n",
       "    <tr>\n",
       "      <th>1</th>\n",
       "      <td>Chandigarh</td>\n",
       "      <td>CSK</td>\n",
       "      <td>KXIP</td>\n",
       "      <td>CSK</td>\n",
       "      <td>bat</td>\n",
       "      <td>CSK</td>\n",
       "      <td>Punjab Cricket Association Stadium, Mohali</td>\n",
       "    </tr>\n",
       "    <tr>\n",
       "      <th>2</th>\n",
       "      <td>Delhi</td>\n",
       "      <td>RR</td>\n",
       "      <td>DC</td>\n",
       "      <td>RR</td>\n",
       "      <td>bat</td>\n",
       "      <td>DC</td>\n",
       "      <td>Feroz Shah Kotla</td>\n",
       "    </tr>\n",
       "    <tr>\n",
       "      <th>3</th>\n",
       "      <td>Mumbai</td>\n",
       "      <td>MI</td>\n",
       "      <td>RCB</td>\n",
       "      <td>MI</td>\n",
       "      <td>bat</td>\n",
       "      <td>RCB</td>\n",
       "      <td>Wankhede Stadium</td>\n",
       "    </tr>\n",
       "    <tr>\n",
       "      <th>5</th>\n",
       "      <td>Jaipur</td>\n",
       "      <td>KXIP</td>\n",
       "      <td>RR</td>\n",
       "      <td>KXIP</td>\n",
       "      <td>bat</td>\n",
       "      <td>RR</td>\n",
       "      <td>Sawai Mansingh Stadium</td>\n",
       "    </tr>\n",
       "  </tbody>\n",
       "</table>\n",
       "</div>"
      ],
      "text/plain": [
       "         city team1 team2 toss_winner toss_decision winner  \\\n",
       "0   Bangalore   KKR   RCB         RCB         field    KKR   \n",
       "1  Chandigarh   CSK  KXIP         CSK           bat    CSK   \n",
       "2       Delhi    RR    DC          RR           bat     DC   \n",
       "3      Mumbai    MI   RCB          MI           bat    RCB   \n",
       "5      Jaipur  KXIP    RR        KXIP           bat     RR   \n",
       "\n",
       "                                        venue  \n",
       "0                       M Chinnaswamy Stadium  \n",
       "1  Punjab Cricket Association Stadium, Mohali  \n",
       "2                            Feroz Shah Kotla  \n",
       "3                            Wankhede Stadium  \n",
       "5                      Sawai Mansingh Stadium  "
      ]
     },
     "execution_count": 13,
     "metadata": {},
     "output_type": "execute_result"
    }
   ],
   "source": [
    "data1.head()"
   ]
  },
  {
   "cell_type": "code",
   "execution_count": 14,
   "metadata": {},
   "outputs": [
    {
     "data": {
      "text/plain": [
       "array(['KKR', 'CSK', 'RR', 'MI', 'KXIP', 'RCB', 'DC', 'SRH'], dtype=object)"
      ]
     },
     "execution_count": 14,
     "metadata": {},
     "output_type": "execute_result"
    }
   ],
   "source": [
    "data1.head()\n",
    "data1['team1'].unique()"
   ]
  },
  {
   "cell_type": "code",
   "execution_count": 15,
   "metadata": {},
   "outputs": [
    {
     "data": {
      "text/html": [
       "<div>\n",
       "<style scoped>\n",
       "    .dataframe tbody tr th:only-of-type {\n",
       "        vertical-align: middle;\n",
       "    }\n",
       "\n",
       "    .dataframe tbody tr th {\n",
       "        vertical-align: top;\n",
       "    }\n",
       "\n",
       "    .dataframe thead th {\n",
       "        text-align: right;\n",
       "    }\n",
       "</style>\n",
       "<table border=\"1\" class=\"dataframe\">\n",
       "  <thead>\n",
       "    <tr style=\"text-align: right;\">\n",
       "      <th></th>\n",
       "      <th>city</th>\n",
       "      <th>team1</th>\n",
       "      <th>team2</th>\n",
       "      <th>toss_winner</th>\n",
       "      <th>toss_decision</th>\n",
       "      <th>winner</th>\n",
       "      <th>venue</th>\n",
       "    </tr>\n",
       "  </thead>\n",
       "  <tbody>\n",
       "    <tr>\n",
       "      <th>0</th>\n",
       "      <td>2</td>\n",
       "      <td>2</td>\n",
       "      <td>3</td>\n",
       "      <td>3</td>\n",
       "      <td>1</td>\n",
       "      <td>2</td>\n",
       "      <td>15</td>\n",
       "    </tr>\n",
       "    <tr>\n",
       "      <th>1</th>\n",
       "      <td>7</td>\n",
       "      <td>4</td>\n",
       "      <td>6</td>\n",
       "      <td>4</td>\n",
       "      <td>0</td>\n",
       "      <td>4</td>\n",
       "      <td>24</td>\n",
       "    </tr>\n",
       "    <tr>\n",
       "      <th>2</th>\n",
       "      <td>10</td>\n",
       "      <td>5</td>\n",
       "      <td>7</td>\n",
       "      <td>5</td>\n",
       "      <td>0</td>\n",
       "      <td>7</td>\n",
       "      <td>8</td>\n",
       "    </tr>\n",
       "    <tr>\n",
       "      <th>3</th>\n",
       "      <td>21</td>\n",
       "      <td>1</td>\n",
       "      <td>3</td>\n",
       "      <td>1</td>\n",
       "      <td>0</td>\n",
       "      <td>3</td>\n",
       "      <td>35</td>\n",
       "    </tr>\n",
       "    <tr>\n",
       "      <th>5</th>\n",
       "      <td>16</td>\n",
       "      <td>6</td>\n",
       "      <td>5</td>\n",
       "      <td>6</td>\n",
       "      <td>0</td>\n",
       "      <td>5</td>\n",
       "      <td>28</td>\n",
       "    </tr>\n",
       "  </tbody>\n",
       "</table>\n",
       "</div>"
      ],
      "text/plain": [
       "   city  team1  team2  toss_winner  toss_decision winner  venue\n",
       "0     2      2      3            3              1      2     15\n",
       "1     7      4      6            4              0      4     24\n",
       "2    10      5      7            5              0      7      8\n",
       "3    21      1      3            1              0      3     35\n",
       "5    16      6      5            6              0      5     28"
      ]
     },
     "execution_count": 15,
     "metadata": {},
     "output_type": "execute_result"
    }
   ],
   "source": [
    "encode_team = {'team1': {'MI':1, 'KKR':2, 'RCB':3, 'CSK':4, 'RR':5, 'KXIP':6, 'DC':7, 'SRH':8},\n",
    "         'team2': {'MI':1, 'KKR':2, 'RCB':3, 'CSK':4, 'RR':5, 'KXIP':6, 'DC':7, 'SRH':8},\n",
    "         'toss_winner': {'MI':1, 'KKR':2, 'RCB':3, 'CSK':4, 'RR':5, 'KXIP':6, 'DC':7, 'SRH':8},\n",
    "         'winner': {'MI':1, 'KKR':2, 'RCB':3, 'CSK':4, 'RR':5, 'KXIP':6, 'DC':7,'SRH':8}}\n",
    "data1.replace(encode_team, inplace= True)\n",
    "lab = LabelEncoder()\n",
    "\n",
    "data1['city'] = lab.fit_transform(data1['city'])\n",
    "data1['toss_decision'] = lab.fit_transform(data1['toss_decision'])\n",
    "data1['venue'] = lab.fit_transform(data1['venue'])\n",
    "\n",
    "data1.head()"
   ]
  },
  {
   "cell_type": "code",
   "execution_count": 16,
   "metadata": {},
   "outputs": [
    {
     "name": "stdout",
     "output_type": "stream",
     "text": [
      "     city  team1  team2  toss_winner  toss_decision winner  venue\n",
      "0       2      2      3            3              1      2     15\n",
      "1       7      4      6            4              0      4     24\n",
      "2      10      5      7            5              0      7      8\n",
      "3      21      1      3            1              0      3     35\n",
      "5      16      6      5            6              0      5     28\n",
      "7       8      4      1            1              1      4     18\n",
      "9       7      6      1            1              1      6     24\n",
      "10      2      3      5            5              1      5     15\n",
      "11      8      2      4            2              0      4     18\n",
      "13      7      7      6            7              0      6     24\n",
      "14      2      4      3            4              0      4     15\n",
      "15     19      2      1            2              0      1      7\n",
      "16     10      7      3            3              1      7      8\n",
      "18     16      5      2            5              0      5     28\n",
      "19      8      4      7            4              0      7     18\n",
      "21      7      6      2            6              0      6     24\n",
      "22     21      1      7            7              1      1      5\n",
      "23     16      4      5            4              0      5     28\n",
      "24      2      3      6            6              1      6     15\n",
      "26     21      5      1            1              1      1      5\n",
      "27     10      7      4            4              1      4      8\n",
      "28     19      2      3            2              0      2      7\n",
      "30      2      3      1            1              1      1     15\n",
      "31      8      4      6            6              1      4     18\n",
      "33     16      7      5            5              1      5     28\n",
      "34      7      3      6            3              0      6     24\n",
      "35     19      2      7            2              0      2      7\n",
      "36     21      4      1            1              1      1     35\n",
      "37      7      6      5            5              1      6     24\n",
      "39     21      2      1            1              1      1     35\n",
      "..    ...    ...    ...          ...            ...    ...    ...\n",
      "726    21      3      1            1              1      1     35\n",
      "727    20      6      5            5              1      6     12\n",
      "728    14      4      8            4              0      8     26\n",
      "729    10      1      7            1              0      1      9\n",
      "730    19      3      2            2              1      3      7\n",
      "731    16      1      5            5              1      5     28\n",
      "732    10      6      7            7              1      7      9\n",
      "733    14      2      8            8              1      8     26\n",
      "734     3      3      4            4              1      3     17\n",
      "735    16      5      7            7              1      7     28\n",
      "736     8      8      4            4              1      4     16\n",
      "737     3      3      6            6              1      3     17\n",
      "738    19      2      5            5              1      5      7\n",
      "739     8      1      4            4              1      1     16\n",
      "740    16      8      5            5              1      5     28\n",
      "741    10      7      3            7              0      7      9\n",
      "742    19      2      1            1              1      2      7\n",
      "743    14      8      6            6              1      8     26\n",
      "744     3      3      5            5              1   Draw     17\n",
      "745     8      4      7            7              1      4     16\n",
      "746    21      1      8            1              0      1     35\n",
      "747    20      6      2            2              1      2     12\n",
      "748    10      5      7            5              0      7      9\n",
      "749     3      8      3            3              1      3     17\n",
      "750    20      4      6            6              1      6     12\n",
      "751    21      2      1            1              1      1     35\n",
      "752     8      4      1            4              0      1     16\n",
      "753    27      8      7            7              1      7      0\n",
      "754    27      7      4            4              1      4      0\n",
      "755    14      1      4            1              0      1     26\n",
      "\n",
      "[564 rows x 7 columns]\n"
     ]
    },
    {
     "data": {
      "text/plain": [
       "array([2, 4, 7, 3, 5, 6, 1, 8, 'Draw'], dtype=object)"
      ]
     },
     "execution_count": 16,
     "metadata": {},
     "output_type": "execute_result"
    }
   ],
   "source": [
    "print(data1)\n",
    "data1['winner'].unique()"
   ]
  },
  {
   "cell_type": "code",
   "execution_count": 17,
   "metadata": {},
   "outputs": [],
   "source": [
    "data1.reset_index(drop=True, inplace=True)"
   ]
  },
  {
   "cell_type": "code",
   "execution_count": 18,
   "metadata": {},
   "outputs": [
    {
     "data": {
      "text/plain": [
       "array([2, 4, 7, 3, 5, 6, 1, 8, 'Draw'], dtype=object)"
      ]
     },
     "execution_count": 18,
     "metadata": {},
     "output_type": "execute_result"
    }
   ],
   "source": [
    "data1['winner'].unique()"
   ]
  },
  {
   "cell_type": "code",
   "execution_count": 19,
   "metadata": {},
   "outputs": [],
   "source": [
    "data1.drop(data1[data1['winner'] == 'Draw'].index, inplace = True)"
   ]
  },
  {
   "cell_type": "code",
   "execution_count": 20,
   "metadata": {},
   "outputs": [
    {
     "data": {
      "text/plain": [
       "array([2, 4, 7, 3, 5, 6, 1, 8], dtype=object)"
      ]
     },
     "execution_count": 20,
     "metadata": {},
     "output_type": "execute_result"
    }
   ],
   "source": [
    "data1['winner'].unique()"
   ]
  },
  {
   "cell_type": "code",
   "execution_count": 21,
   "metadata": {},
   "outputs": [
    {
     "data": {
      "text/plain": [
       "array([ 2,  7, 10, 21, 16,  8, 19,  5, 22, 12,  6, 13, 17, 18,  4,  1, 11,\n",
       "       23, 14, 24, 25,  0, 26,  9, 27, 15, 20,  3], dtype=int64)"
      ]
     },
     "execution_count": 21,
     "metadata": {},
     "output_type": "execute_result"
    }
   ],
   "source": [
    "data1['city'].unique()"
   ]
  },
  {
   "cell_type": "code",
   "execution_count": 22,
   "metadata": {},
   "outputs": [],
   "source": [
    "X = data1.drop(['winner'], axis = 1)\n",
    "\n",
    "Y = data1['winner']"
   ]
  },
  {
   "cell_type": "code",
   "execution_count": 23,
   "metadata": {},
   "outputs": [],
   "source": [
    "x_train = np.array(X.iloc[:556, :])\n",
    "x_train = x_train.astype('int')\n",
    "y_train = np.array(Y.iloc[:556])\n",
    "y_train = y_train.astype('int')"
   ]
  },
  {
   "cell_type": "code",
   "execution_count": 24,
   "metadata": {},
   "outputs": [
    {
     "data": {
      "text/plain": [
       "(561, 6)"
      ]
     },
     "execution_count": 24,
     "metadata": {},
     "output_type": "execute_result"
    }
   ],
   "source": [
    "X.shape"
   ]
  },
  {
   "cell_type": "code",
   "execution_count": 25,
   "metadata": {},
   "outputs": [
    {
     "data": {
      "text/plain": [
       "(561,)"
      ]
     },
     "execution_count": 25,
     "metadata": {},
     "output_type": "execute_result"
    }
   ],
   "source": [
    "Y.shape"
   ]
  },
  {
   "cell_type": "code",
   "execution_count": 26,
   "metadata": {},
   "outputs": [],
   "source": [
    "x_test = X.iloc[-5:,:] \n",
    "y_test = Y.iloc[-5:]"
   ]
  },
  {
   "cell_type": "code",
   "execution_count": 27,
   "metadata": {},
   "outputs": [
    {
     "name": "stderr",
     "output_type": "stream",
     "text": [
      "C:\\Users\\Suvansh Vaid\\Anaconda3\\lib\\site-packages\\sklearn\\linear_model\\logistic.py:432: FutureWarning: Default solver will be changed to 'lbfgs' in 0.22. Specify a solver to silence this warning.\n",
      "  FutureWarning)\n",
      "C:\\Users\\Suvansh Vaid\\Anaconda3\\lib\\site-packages\\sklearn\\linear_model\\logistic.py:469: FutureWarning: Default multi_class will be changed to 'auto' in 0.22. Specify the multi_class option to silence this warning.\n",
      "  \"this warning.\", FutureWarning)\n"
     ]
    },
    {
     "data": {
      "text/plain": [
       "LogisticRegression(C=1.0, class_weight=None, dual=False, fit_intercept=True,\n",
       "                   intercept_scaling=1, l1_ratio=None, max_iter=100,\n",
       "                   multi_class='warn', n_jobs=None, penalty='l2',\n",
       "                   random_state=None, solver='warn', tol=0.0001, verbose=0,\n",
       "                   warm_start=False)"
      ]
     },
     "execution_count": 27,
     "metadata": {},
     "output_type": "execute_result"
    }
   ],
   "source": [
    "from sklearn.model_selection import train_test_split\n",
    "from sklearn.linear_model import LogisticRegression\n",
    "\n",
    "logisticRegr = LogisticRegression()\n",
    "\n",
    "logisticRegr.fit(x_train, y_train)\n"
   ]
  },
  {
   "cell_type": "code",
   "execution_count": 28,
   "metadata": {},
   "outputs": [],
   "source": [
    "predict = logisticRegr.predict(x_test[0:])"
   ]
  },
  {
   "cell_type": "code",
   "execution_count": 29,
   "metadata": {
    "scrolled": false
   },
   "outputs": [
    {
     "data": {
      "text/plain": [
       "559    1\n",
       "560    1\n",
       "561    7\n",
       "562    4\n",
       "563    1\n",
       "Name: winner, dtype: object"
      ]
     },
     "execution_count": 29,
     "metadata": {},
     "output_type": "execute_result"
    }
   ],
   "source": [
    "y_test"
   ]
  },
  {
   "cell_type": "code",
   "execution_count": 30,
   "metadata": {},
   "outputs": [
    {
     "name": "stdout",
     "output_type": "stream",
     "text": [
      "80.0\n"
     ]
    }
   ],
   "source": [
    "score = 0\n",
    "for i,each in enumerate(y_test):\n",
    "    if each == predict[i]:\n",
    "        score = score + 1\n",
    "accuracy = (score / len(y_test)) * 100\n",
    "print(accuracy)"
   ]
  },
  {
   "cell_type": "code",
   "execution_count": 31,
   "metadata": {},
   "outputs": [
    {
     "data": {
      "text/plain": [
       "KNeighborsClassifier(algorithm='auto', leaf_size=30, metric='minkowski',\n",
       "                     metric_params=None, n_jobs=None, n_neighbors=2, p=2,\n",
       "                     weights='uniform')"
      ]
     },
     "execution_count": 31,
     "metadata": {},
     "output_type": "execute_result"
    }
   ],
   "source": [
    "from sklearn.neighbors import KNeighborsClassifier\n",
    "\n",
    "knn = KNeighborsClassifier(n_neighbors = 2)\n",
    "\n",
    "knn.fit(x_train, y_train)"
   ]
  },
  {
   "cell_type": "code",
   "execution_count": 32,
   "metadata": {},
   "outputs": [
    {
     "name": "stdout",
     "output_type": "stream",
     "text": [
      "[1 1 5 5 5]\n"
     ]
    }
   ],
   "source": [
    "predict = knn.predict(x_test)\n",
    "print(predict)"
   ]
  },
  {
   "cell_type": "code",
   "execution_count": 33,
   "metadata": {},
   "outputs": [
    {
     "name": "stdout",
     "output_type": "stream",
     "text": [
      "40.0\n"
     ]
    }
   ],
   "source": [
    "score = 0\n",
    "for i,each in enumerate(y_test):\n",
    "    if each == predict[i]:\n",
    "        score = score + 1\n",
    "accuracy = (score / len(y_test)) * 100\n",
    "print(accuracy)"
   ]
  },
  {
   "cell_type": "code",
   "execution_count": 34,
   "metadata": {},
   "outputs": [
    {
     "name": "stderr",
     "output_type": "stream",
     "text": [
      "C:\\Users\\Suvansh Vaid\\Anaconda3\\lib\\site-packages\\sklearn\\ensemble\\forest.py:245: FutureWarning: The default value of n_estimators will change from 10 in version 0.20 to 100 in 0.22.\n",
      "  \"10 in version 0.20 to 100 in 0.22.\", FutureWarning)\n"
     ]
    }
   ],
   "source": [
    "from sklearn.ensemble import RandomForestClassifier\n",
    "x_train = pd.DataFrame(x_train)\n",
    "\n",
    "rfc = RandomForestClassifier()\n",
    "rfc.fit(x_train, y_train)\n",
    "\n",
    "predict = rfc.predict(x_test)"
   ]
  },
  {
   "cell_type": "code",
   "execution_count": 35,
   "metadata": {},
   "outputs": [
    {
     "name": "stdout",
     "output_type": "stream",
     "text": [
      "80.0\n"
     ]
    }
   ],
   "source": [
    "score = 0\n",
    "for i,each in enumerate(y_test):\n",
    "    if each == predict[i]:\n",
    "        score = score + 1\n",
    "accuracy = (score / len(y_test)) * 100\n",
    "print(accuracy)"
   ]
  },
  {
   "cell_type": "code",
   "execution_count": 36,
   "metadata": {},
   "outputs": [
    {
     "name": "stdout",
     "output_type": "stream",
     "text": [
      "[0.16526468 0.19775659 0.23667659 0.16362666 0.03336764 0.20330785]\n"
     ]
    }
   ],
   "source": [
    "# To find out the importance of each feature in determing the outcome class.\n",
    "\n",
    "print(rfc.feature_importances_)"
   ]
  },
  {
   "cell_type": "code",
   "execution_count": 37,
   "metadata": {},
   "outputs": [
    {
     "ename": "SyntaxError",
     "evalue": "invalid syntax (<ipython-input-37-4569e3512b0d>, line 4)",
     "output_type": "error",
     "traceback": [
      "\u001b[1;36m  File \u001b[1;32m\"<ipython-input-37-4569e3512b0d>\"\u001b[1;36m, line \u001b[1;32m4\u001b[0m\n\u001b[1;33m    path2 =\u001b[0m\n\u001b[1;37m            ^\u001b[0m\n\u001b[1;31mSyntaxError\u001b[0m\u001b[1;31m:\u001b[0m invalid syntax\n"
     ]
    }
   ],
   "source": [
    "from PIL import ImageTk, Image\n",
    "\n",
    "path1 = 'C:/xxxx/xxxx.jpg'\n",
    "path2 = \n",
    "path3 = \n",
    "path4 = \n",
    "path5 = \n",
    "path6 = \n",
    "\n",
    "img1 = ImageTk.PhotoImage(Image.open(path))\n",
    "img2 = ImageTk.PhotoImage(Image.open(path))\n",
    "img3 = ImageTk.PhotoImage(Image.open(path))\n",
    "img4 = ImageTk.PhotoImage(Image.open(path))\n",
    "img5 = ImageTk.PhotoImage(Image.open(path))\n",
    "img6 = ImageTk.PhotoImage(Image.open(path))\n",
    "\n",
    "\n",
    "panel = tk.Label(root, image = img)\n",
    "panel.pack(side = \"bottom\", fill = \"both\", expand = \"yes\")\n",
    "root.mainloop()"
   ]
  },
  {
   "cell_type": "code",
   "execution_count": null,
   "metadata": {
    "scrolled": true
   },
   "outputs": [],
   "source": [
    "from tkinter import *\n",
    "import tkinter\n",
    "\n",
    "window = Tk()\n",
    "window.geometry(\"1366x768\")\n",
    "window.title(string = 'AI & ML Workshop Project 2019')\n",
    "\n",
    "frame1 = Frame(window)\n",
    "frame1.pack(side = TOP, fill = X)\n",
    "\n",
    "frame2 = Frame(window)\n",
    "frame2.pack(side = TOP, fill = X)\n",
    "\n",
    "frame3 = Frame(window)\n",
    "frame3.pack(side = TOP, fill = X)\n",
    "\n",
    "frame4 = Frame(window)\n",
    "frame4.pack(side = TOP, fill = X)\n",
    "\n",
    "frame5 = Frame(window)\n",
    "frame5.pack(side = TOP, fill = X)\n",
    "\n",
    "frame6 = Frame(window)\n",
    "frame6.pack(side = TOP, fill = X)\n",
    " \n",
    "label1 = tkinter.Label(frame1, text = \"Welcome to IPL Winner Predictor!\",font=(\"Arial Bold\",16))\n",
    "label1.pack(side = TOP, fill =X)\n",
    "label2 = tkinter.Label(frame1, text = \"We have used a dataset of IPL history from 2008 to 2019. The data set has been extracted from kaggle !\", font=(\"Helvetica\",14))\n",
    "label2.pack(side = TOP, fill = X)\n",
    "\n",
    "label3 = tkinter.Label(frame2, text = \"Let us first explore the original data set\")\n",
    "label3.grid(row= 1, column = 0, padx= 10, pady =10)\n",
    "\n",
    "\n",
    "def call_b1():\n",
    "    b1_d = data.iloc[:5,:]\n",
    "    print_records = ''\n",
    "    for each in b1_d.head().itertuples():\n",
    "        print_records += str(each) + '\\n'\n",
    "        \n",
    "    print(print_records)\n",
    "\n",
    "button1 = tkinter.Button(frame2, text=\"Original Data Set\")\n",
    "button1.grid(row=1, column = 2)\n",
    "    \n",
    "label4 =  tkinter.Label(frame3, text = \"    Now coming to the essential part of cleaning our data.\")\n",
    "label4.grid(row= 0, column = 0, sticky = \"W\")\n",
    "label5 =  tkinter.Label(frame3, text = \"    We removed the drawn matches and also the non-existant teams for IPL 2020\")\n",
    "label5.grid(row= 1, column = 0, sticky = \"W\")\n",
    "label6 =  tkinter.Label(frame3, text = \"    The resultant dataset after cleaning has a shape of 564 X 7\")\n",
    "label6.grid(row= 2, column = 0, sticky = \"W\")\n",
    "\n",
    "button2 = tkinter.Button(frame3, text=\"Dataset after cleaning\")\n",
    "button2.grid(row= 2, column = 1)\n",
    " \n",
    "\n",
    "label4 =  tkinter.Label(frame4, text = \"    Data is finally ready for training !\")\n",
    "label4.grid(row= 1, column = 0)\n",
    "button3 = tkinter.Button(frame4, text=\"x_train\")\n",
    "button3.grid(row= 2, column = 0, padx =5, pady = 5)\n",
    "button4 = tkinter.Button(frame4, text=\"y_train\")\n",
    "button4.grid(row= 2, column = 1, padx = 5, pady = 5)\n",
    "button5 = tkinter.Button(frame4, text=\"x_test\")\n",
    "button5.grid(row= 3, column = 0, padx = 5, pady = 5)\n",
    "button6 = tkinter.Button(frame4, text=\"y_test\")\n",
    "button6.grid(row= 3, column = 1, padx=5, pady = 5)\n",
    "\n",
    "\n",
    "label7 =  tkinter.Label(frame5, text = \"    Following Machine Learning Models were used. Click on each to see the results and accuracy!\")\n",
    "label7.grid(row= 0, column = 0)\n",
    "button7 = tkinter.Button(frame5, text=\"Logistic Regression\")\n",
    "button7.grid(row= 0, column = 1, padx = 5, pady = 5)\n",
    "button8 = tkinter.Button(frame5, text=\"K-nearest Neighbors\")\n",
    "button8.grid(row= 0, column = 2, padx = 5, pady = 5)\n",
    "button9 = tkinter.Button(frame5, text=\"Random Forest Classifier\")\n",
    "button9.grid(row= 0, column = 3, padx =5, pady = 5)\n",
    "\n",
    "\n",
    "\n",
    "window.mainloop()\n"
   ]
  }
 ],
 "metadata": {
  "kernelspec": {
   "display_name": "Python 3",
   "language": "python",
   "name": "python3"
  },
  "language_info": {
   "codemirror_mode": {
    "name": "ipython",
    "version": 3
   },
   "file_extension": ".py",
   "mimetype": "text/x-python",
   "name": "python",
   "nbconvert_exporter": "python",
   "pygments_lexer": "ipython3",
   "version": "3.7.3"
  }
 },
 "nbformat": 4,
 "nbformat_minor": 2
}
